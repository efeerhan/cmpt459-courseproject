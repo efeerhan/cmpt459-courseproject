{
 "cells": [
  {
   "cell_type": "code",
   "execution_count": 1,
   "id": "c178fa21-132a-44e6-afc0-bc7244cc7e99",
   "metadata": {},
   "outputs": [],
   "source": [
    "import pandas as pd\n",
    "import numpy as np\n",
    "from typing import Sequence\n",
    "from sklearn.model_selection import train_test_split\n",
    "from sklearn.neighbors import KNeighborsClassifier\n",
    "from sklearn.naive_bayes import GaussianNB\n",
    "from sklearn.preprocessing import LabelEncoder\n",
    "from sklearn.linear_model import LogisticRegression\n",
    "from sklearn.tree import DecisionTreeClassifier\n",
    "from sklearn.svm import SVC\n",
    "from xgboost import XGBClassifier\n",
    "from sklearn.preprocessing import StandardScaler"
   ]
  },
  {
   "cell_type": "code",
   "execution_count": 2,
   "id": "b5f0e356-4cef-4ca5-92f0-3919afe30c92",
   "metadata": {},
   "outputs": [],
   "source": [
    "train = pd.read_csv('data/processed/cases_train.csv', parse_dates=['date_confirmation'])\n",
    "train['date_confirmation'] = train['date_confirmation'].apply(lambda r: r.value)\n",
    "# 0 hospitalized\n",
    "# 1 nonhospitalized\n",
    "# 6 deceased"
   ]
  },
  {
   "cell_type": "markdown",
   "id": "ab7ba925-5646-41a7-a80d-4306730cde0a",
   "metadata": {},
   "source": [
    "# Label Encoding"
   ]
  },
  {
   "cell_type": "code",
   "execution_count": 3,
   "id": "739229ff-323e-4705-988f-c9ffd6da3385",
   "metadata": {},
   "outputs": [],
   "source": [
    "le = LabelEncoder()\n",
    "for col in train.columns:\n",
    "    if train[col].dtype == 'object' and col != 'outcome_group':\n",
    "        train[col] = le.fit_transform(train[col])\n",
    "\n",
    "train['outcome_group'] = pd.Categorical(train['outcome_group']).codes\n",
    "X = train.iloc[:, 0:-1]\n",
    "y = train.iloc[:, -1]"
   ]
  },
  {
   "cell_type": "code",
   "execution_count": 4,
   "id": "92334ca1",
   "metadata": {},
   "outputs": [
    {
     "name": "stdout",
     "output_type": "stream",
     "text": [
      "0 1 2\n"
     ]
    }
   ],
   "source": [
    "print(train['outcome_group'].loc[6],train['outcome_group'].loc[0],train['outcome_group'].loc[1])"
   ]
  },
  {
   "cell_type": "markdown",
   "id": "72a61cb2-a3b2-4346-bc55-54702a3bdf5e",
   "metadata": {},
   "source": [
    "# Feature Selection"
   ]
  },
  {
   "cell_type": "code",
   "execution_count": 72,
   "id": "11d13ef2-262b-41f1-9bf8-06df685f5968",
   "metadata": {},
   "outputs": [],
   "source": [
    "X_train, X_valid, y_train, y_valid = train_test_split(X, y, stratify=y, train_size=0.8)"
   ]
  },
  {
   "cell_type": "code",
   "execution_count": 7,
   "id": "4b1d0e83-2a9d-4e87-b4e9-239ea771b5cc",
   "metadata": {},
   "outputs": [
    {
     "name": "stdout",
     "output_type": "stream",
     "text": [
      "proceeding with classifier KNN with valid score 0.93436\n",
      "working with 14/14 features\n",
      "reduction \\f age: 0.0\n",
      "removing feature age\n",
      "working with 13/14 features\n",
      "reduction \\f sex: 0.0\n",
      "removing feature sex\n",
      "working with 12/14 features\n",
      "reduction \\f province: 0.003776\n",
      "removing feature province\n",
      "working with 11/14 features\n",
      "reduction \\f country: 0.003776\n",
      "removing feature country\n",
      "done!\n"
     ]
    }
   ],
   "source": [
    "classifiers = [(LogisticRegression(),'Logistic Regression'),\n",
    "                   (GaussianNB(),'GaussianNB'),\n",
    "                   (KNeighborsClassifier(),'KNN'),\n",
    "                   (DecisionTreeClassifier(),'Decision Tree'),\n",
    "                   (SVC(),'Support Vector')]\n",
    "    \n",
    "best_score = 0\n",
    "best_classifier = None\n",
    "best_m:str = None\n",
    "for (c,m) in classifiers:\n",
    "    c.fit(X_train,y_train)\n",
    "    valid_score = c.score(X_valid,y_valid)\n",
    "    if valid_score > best_score:\n",
    "        best_score = valid_score\n",
    "        best_classifier = c\n",
    "        best_m = m\n",
    "\n",
    "print('proceeding with classifier {0} with valid score {1}'.format(best_m,round(best_score,6)))\n",
    "\n",
    "cols: Sequence[str] = X_train.columns.to_list()\n",
    "desired_n_features = round(len(cols)*0.75)\n",
    "\n",
    "while (len(cols) != desired_n_features):\n",
    "    print('working with {0}/{1} features'.format(len(cols),X_train.shape[1]))\n",
    "    least_reduction = 1\n",
    "    for f in cols:\n",
    "        X_train_fs_no_f = X_train[cols]\n",
    "        X_valid_fs_no_f = X_valid[cols]\n",
    "        best_classifier.fit(X_train_fs_no_f,y_train)\n",
    "        valid_score_no_f = best_classifier.score(X_valid_fs_no_f, y_valid)\n",
    "        reduction = best_score-valid_score_no_f\n",
    "        if reduction < least_reduction:\n",
    "            print('reduction \\\\f {0}: {1}'.format(f,round(reduction,6)))\n",
    "            least_reduction = reduction\n",
    "            least_reduction_feature = f\n",
    "    print('removing feature', least_reduction_feature)\n",
    "    cols.pop(cols.index(least_reduction_feature))\n",
    "print('done!')"
   ]
  },
  {
   "cell_type": "markdown",
   "id": "438e19d8",
   "metadata": {},
   "source": [
    "# Balancing Dataset\n",
    "#### Initialize KFold, 80:20 split, class weights, scoring criteria, use selected features"
   ]
  },
  {
   "cell_type": "code",
   "execution_count": 73,
   "id": "6d493bdb",
   "metadata": {},
   "outputs": [
    {
     "name": "stdout",
     "output_type": "stream",
     "text": [
      "Counter({1: 10548, 2: 10401, 0: 10365})\n"
     ]
    }
   ],
   "source": [
    "from sklearn.model_selection import StratifiedKFold\n",
    "from sklearn.model_selection import GridSearchCV, RandomizedSearchCV\n",
    "from sklearn.utils import class_weight\n",
    "import warnings\n",
    "warnings.filterwarnings('ignore') \n",
    "from imblearn.combine import SMOTETomek\n",
    "from imblearn.over_sampling import SMOTE\n",
    "from sklearn.metrics import classification_report\n",
    "from collections import Counter\n",
    "import matplotlib.pyplot as plt\n",
    "from sklearn.decomposition import PCA\n",
    "from sklearn.metrics import make_scorer, f1_score\n",
    "\n",
    "X_train = X_train[cols]\n",
    "X_valid = X_valid[cols]\n",
    "std = StandardScaler()\n",
    "X_train = std.fit_transform(X_train)\n",
    "X_valid = std.transform(X_valid)\n",
    "\n",
    "k = 5\n",
    "k_fold = StratifiedKFold(n_splits=k)\n",
    "\n",
    "def f1_deceased_func(y_true, y_pred):\n",
    "    return f1_score(y_true, y_pred, average=None)[0]\n",
    "f1_deceased = make_scorer(f1_deceased_func)\n",
    "\n",
    "scoring = {\n",
    "    'Accuracy': 'accuracy',\n",
    "    'F1_macro': 'f1_macro',\n",
    "    'F1_macro_deceased': f1_deceased\n",
    "}\n",
    "\n",
    "sm = SMOTETomek(sampling_strategy='all', smote=SMOTE(k_neighbors=5), n_jobs=-1)\n",
    "X_train_res, y_train_res = sm.fit_resample(X_train,y_train)\n",
    "print(Counter(y_train_res))"
   ]
  },
  {
   "cell_type": "markdown",
   "id": "755ce190",
   "metadata": {},
   "source": [
    "# Scatterplots"
   ]
  },
  {
   "cell_type": "markdown",
   "id": "f31b4272",
   "metadata": {},
   "source": [
    "### Before SMOTETomek"
   ]
  },
  {
   "cell_type": "code",
   "execution_count": 67,
   "id": "8e0881e6",
   "metadata": {},
   "outputs": [
    {
     "data": {
      "image/png": "[encoded data removed]",
      "text/plain": [
       "<Figure size 640x480 with 1 Axes>"
      ]
     },
     "metadata": {},
     "output_type": "display_data"
    }
   ],
   "source": [
    "std = StandardScaler()\n",
    "pca = PCA(n_components=2)\n",
    "X_pca = pca.fit_transform(std.fit_transform(X_train))\n",
    "target_names = ['0','1','2']\n",
    "\n",
    "plt.figure()\n",
    "colors = ['navy', 'turquoise', 'darkorange']\n",
    "for color, i, target_name in zip(colors, [0, 1, 2], target_names):\n",
    "    plt.scatter(X_pca[y_train == i, 0], X_pca[y_train == i, 1], color=color, alpha=.5, lw=0.5, label=target_name)\n",
    "plt.legend(loc='best', shadow=False, scatterpoints=1)\n",
    "\n",
    "plt.show()"
   ]
  },
  {
   "cell_type": "markdown",
   "id": "aa27007c",
   "metadata": {},
   "source": [
    "### After SMOTETomek"
   ]
  },
  {
   "cell_type": "code",
   "execution_count": 68,
   "id": "7f25fe3c",
   "metadata": {},
   "outputs": [
    {
     "data": {
      "image/png": "[encoded data removed]",
      "text/plain": [
       "<Figure size 640x480 with 1 Axes>"
      ]
     },
     "metadata": {},
     "output_type": "display_data"
    }
   ],
   "source": [
    "std = StandardScaler()\n",
    "pca = PCA(n_components=2)\n",
    "X_pca = pca.fit_transform(std.fit_transform(X_train_res))\n",
    "target_names = ['0','1','2']\n",
    "\n",
    "plt.figure()\n",
    "colors = ['navy', 'turquoise', 'darkorange']\n",
    "for color, i, target_name in zip(colors, [0, 1, 2], target_names):\n",
    "    plt.scatter(X_pca[y_train_res == i, 0], X_pca[y_train_res == i, 1], color=color, alpha=.5, lw=0.5, label=target_name)\n",
    "plt.legend(loc='best', shadow=False, scatterpoints=1)\n",
    "\n",
    "plt.show()"
   ]
  },
  {
   "cell_type": "markdown",
   "id": "a1945c96-ea93-47af-94ae-853fddfe93bc",
   "metadata": {},
   "source": [
    "# Building Models and Hyperparameter Tuning"
   ]
  },
  {
   "cell_type": "markdown",
   "id": "a1ad9224",
   "metadata": {},
   "source": [
    "### KNeighbors"
   ]
  },
  {
   "cell_type": "code",
   "execution_count": 12,
   "id": "52923f8e",
   "metadata": {},
   "outputs": [
    {
     "name": "stdout",
     "output_type": "stream",
     "text": [
      "best crossval score:  0.8770621388613626\n",
      "valid:  0.9151902410688353\n",
      "{'weights': 'uniform', 'p': 1, 'n_neighbors': 1, 'metric': 'l1', 'leaf_size': 17, 'algorithm': 'ball_tree'}\n"
     ]
    }
   ],
   "source": [
    "kn = KNeighborsClassifier()\n",
    "params = {\n",
    "    'n_neighbors': np.arange(1,11,1),\n",
    "    'weights': ['uniform','distance'],\n",
    "    'algorithm': ['ball_tree','kd_tree','brute'],\n",
    "    'leaf_size': np.arange(10,50,1),\n",
    "    'p': [1,2],\n",
    "    'metric': ['cityblock','cosine','euclidean','l1','l2','manhattan']\n",
    "}\n",
    "kn_search = RandomizedSearchCV(kn,\n",
    "                               params,\n",
    "                               cv=k_fold,\n",
    "                               scoring=scoring,\n",
    "                               refit='Accuracy',\n",
    "                               n_iter=50,\n",
    "                               n_jobs=-1).fit(X_train_res,y_train_res)\n",
    "print('best crossval score: ',kn_search.best_score_)\n",
    "kn_res = pd.DataFrame(kn_search.cv_results_)[['params','mean_test_Accuracy','mean_test_F1_macro']]\n",
    "kn_res['classifier'] = 'KNeighbors'\n",
    "print('valid: ', kn_search.score(X_valid,y_valid))\n",
    "print('valid: ', kn_search.score(X_valid,y_valid))\n",
    "print(kn_search.best_params_)"
   ]
  },
  {
   "cell_type": "code",
   "execution_count": 99,
   "id": "bd731aea",
   "metadata": {},
   "outputs": [
    {
     "name": "stdout",
     "output_type": "stream",
     "text": [
      "total incorrect:  445\n",
      "predicted 0, was 1: 134\n",
      "predicted 0, was 2: 240\n",
      "predicted 1, was 0: 19\n",
      "predicted 1, was 2: 4\n",
      "predicted 2, was 0: 41\n",
      "predicted 2, was 1: 7\n",
      "total 2-0 confusions: 281/445\n",
      "total 1-0 confusions: 153/445\n",
      "total 2-1 confusions: 11/445\n",
      "number of errors involving 0: 434/445\n"
     ]
    }
   ],
   "source": [
    "pred_kn = kn_search.predict(X_valid)\n",
    "check = pd.DataFrame({'pred': pred_kn, 'actual': y_valid})\n",
    "check['correct'] = check['pred'] == check['actual']\n",
    "incorrect = check[check['correct'] == False]\n",
    "total = len(incorrect)\n",
    "n_0 = len(incorrect[(incorrect['actual'] == 0) | (incorrect['pred'] == 0)]) \n",
    "p0w1 = len(incorrect[(incorrect['actual'] == 1) & (incorrect['pred'] == 0)])\n",
    "p0w2 = len(incorrect[(incorrect['actual'] == 2) & (incorrect['pred'] == 0)])\n",
    "p1w0 = len(incorrect[(incorrect['actual'] == 0) & (incorrect['pred'] == 1)])\n",
    "p1w2 = len(incorrect[(incorrect['actual'] == 2) & (incorrect['pred'] == 1)])\n",
    "p2w0 = len(incorrect[(incorrect['actual'] == 0) & (incorrect['pred'] == 2)])\n",
    "p2w1 = len(incorrect[(incorrect['actual'] == 1) & (incorrect['pred'] == 2)])\n",
    "print('total incorrect: ', total)\n",
    "print('predicted 0, was 1:', p0w1)\n",
    "print('predicted 0, was 2:', p0w2)\n",
    "print('predicted 1, was 0:', p1w0)\n",
    "print('predicted 1, was 2:', p1w2)\n",
    "print('predicted 2, was 0:', p2w0)\n",
    "print('predicted 2, was 1:', p2w1)\n",
    "print(f'total 2-0 confusions: {p0w2+p2w0}/{total}')\n",
    "print(f'total 1-0 confusions: {p0w1+p1w0}/{total}')\n",
    "print(f'total 2-1 confusions: {p1w2+p2w1}/{total}')\n",
    "print(f'number of errors involving 0: {n_0}/{total}')"
   ]
  },
  {
   "cell_type": "markdown",
   "id": "1bfc1896",
   "metadata": {},
   "source": [
    "### XGBoost\n",
    "Linear booster consistently scores lower. Removed from grid\n",
    "Reference: https://xgboost.readthedocs.io/en/latest/tutorials/param_tuning.html"
   ]
  },
  {
   "cell_type": "code",
   "execution_count": 100,
   "id": "a3badbe4",
   "metadata": {},
   "outputs": [
    {
     "name": "stdout",
     "output_type": "stream",
     "text": [
      "best crossval score:  0.9249762522221088\n",
      "valid:  0.9233226837060703\n",
      "{'subsample': 1, 'min_child_weight': 4.7368421052631575, 'max_depth': 6, 'lambda': 3.4210526315789473, 'gamma': 0.15789473684210525, 'eta': 0.11684210526315789, 'booster': 'gbtree', 'alpha': 0.2631578947368421}\n"
     ]
    }
   ],
   "source": [
    "class_weights_dict = {0: 2, 1: 0.2, 2: 0.6}\n",
    "class_weights = class_weight.compute_sample_weight(class_weight=class_weights_dict, y=y_train)\n",
    "xgb = XGBClassifier(objective='multi:softmax', tree_method='exact', num_class=3)\n",
    "params = {\n",
    "    'booster' : ['gbtree'],\n",
    "    'eta': np.linspace(0.01,0.3,20),\n",
    "    'gamma': np.linspace(0,3,20),\n",
    "    'max_depth': np.arange(3,20,1),\n",
    "    'min_child_weight': np.linspace(0,10,20),\n",
    "    'subsample': [0.5,1],\n",
    "    'lambda': np.linspace(0,5,20),\n",
    "    'alpha': np.linspace(0,5,20)\n",
    "}\n",
    "xgb_search = RandomizedSearchCV(xgb,\n",
    "                                params,\n",
    "                                cv=k_fold,\n",
    "                                scoring=scoring,\n",
    "                                refit='Accuracy',\n",
    "                                n_jobs=None,\n",
    "                                n_iter=40\n",
    "                                ).fit(X_train,y_train,sample_weight=class_weights)\n",
    "print('best crossval score: ',xgb_search.best_score_)\n",
    "xgb_res = pd.DataFrame(xgb_search.cv_results_)[['params','mean_test_Accuracy','mean_test_F1_macro_deceased','mean_test_F1_macro']]\n",
    "xgb_res['classifier'] = 'XGBoost'\n",
    "print('valid: ', xgb_search.score(X_valid,y_valid))\n",
    "print(xgb_search.best_params_)"
   ]
  },
  {
   "cell_type": "code",
   "execution_count": 101,
   "id": "c72af8c8",
   "metadata": {},
   "outputs": [
    {
     "name": "stdout",
     "output_type": "stream",
     "text": [
      "total incorrect:  264\n",
      "predicted 0, was 1: 13\n",
      "predicted 0, was 2: 122\n",
      "predicted 1, was 0: 42\n",
      "predicted 1, was 2: 7\n",
      "predicted 2, was 0: 74\n",
      "predicted 2, was 1: 6\n",
      "total 2-0 confusions: 196/264\n",
      "total 1-0 confusions: 55/264\n",
      "total 2-1 confusions: 13/264\n",
      "number of errors involving 0: 251/264\n"
     ]
    }
   ],
   "source": [
    "pred_xgb = xgb_search.predict(X_valid)\n",
    "check = pd.DataFrame({'pred': pred_xgb, 'actual': y_valid})\n",
    "check['correct'] = check['pred'] == check['actual']\n",
    "incorrect = check[check['correct'] == False]\n",
    "total = len(incorrect)\n",
    "n_0 = len(incorrect[(incorrect['actual'] == 0) | (incorrect['pred'] == 0)]) \n",
    "p0w1 = len(incorrect[(incorrect['actual'] == 1) & (incorrect['pred'] == 0)])\n",
    "p0w2 = len(incorrect[(incorrect['actual'] == 2) & (incorrect['pred'] == 0)])\n",
    "p1w0 = len(incorrect[(incorrect['actual'] == 0) & (incorrect['pred'] == 1)])\n",
    "p1w2 = len(incorrect[(incorrect['actual'] == 2) & (incorrect['pred'] == 1)])\n",
    "p2w0 = len(incorrect[(incorrect['actual'] == 0) & (incorrect['pred'] == 2)])\n",
    "p2w1 = len(incorrect[(incorrect['actual'] == 1) & (incorrect['pred'] == 2)])\n",
    "print('total incorrect: ', total)\n",
    "print('predicted 0, was 1:', p0w1)\n",
    "print('predicted 0, was 2:', p0w2)\n",
    "print('predicted 1, was 0:', p1w0)\n",
    "print('predicted 1, was 2:', p1w2)\n",
    "print('predicted 2, was 0:', p2w0)\n",
    "print('predicted 2, was 1:', p2w1)\n",
    "print(f'total 2-0 confusions: {p0w2+p2w0}/{total}')\n",
    "print(f'total 1-0 confusions: {p0w1+p1w0}/{total}')\n",
    "print(f'total 2-1 confusions: {p1w2+p2w1}/{total}')\n",
    "print(f'number of errors involving 0: {n_0}/{total}')"
   ]
  },
  {
   "cell_type": "markdown",
   "id": "c529425c",
   "metadata": {},
   "source": [
    "### Compiling CV Results"
   ]
  },
  {
   "cell_type": "code",
   "execution_count": 102,
   "id": "0703e2ea",
   "metadata": {},
   "outputs": [
    {
     "data": {
      "text/html": [
       "<div>\n",
       "<style scoped>\n",
       "    .dataframe tbody tr th:only-of-type {\n",
       "        vertical-align: middle;\n",
       "    }\n",
       "\n",
       "    .dataframe tbody tr th {\n",
       "        vertical-align: top;\n",
       "    }\n",
       "\n",
       "    .dataframe thead th {\n",
       "        text-align: right;\n",
       "    }\n",
       "</style>\n",
       "<table border=\"1\" class=\"dataframe\">\n",
       "  <thead>\n",
       "    <tr style=\"text-align: right;\">\n",
       "      <th></th>\n",
       "      <th>classifier</th>\n",
       "      <th>params</th>\n",
       "      <th>mean_test_Accuracy</th>\n",
       "      <th>mean_test_F1_macro_deceased</th>\n",
       "      <th>mean_test_F1_macro</th>\n",
       "    </tr>\n",
       "  </thead>\n",
       "  <tbody>\n",
       "    <tr>\n",
       "      <th>0</th>\n",
       "      <td>KNeighbors</td>\n",
       "      <td>weights=distance,p=1,n_neighbors=6,metric=manh...</td>\n",
       "      <td>0.873387</td>\n",
       "      <td>NaN</td>\n",
       "      <td>0.869667</td>\n",
       "    </tr>\n",
       "    <tr>\n",
       "      <th>1</th>\n",
       "      <td>KNeighbors</td>\n",
       "      <td>weights=uniform,p=1,n_neighbors=9,metric=eucli...</td>\n",
       "      <td>0.843379</td>\n",
       "      <td>NaN</td>\n",
       "      <td>0.838038</td>\n",
       "    </tr>\n",
       "    <tr>\n",
       "      <th>2</th>\n",
       "      <td>KNeighbors</td>\n",
       "      <td>weights=distance,p=1,n_neighbors=2,metric=city...</td>\n",
       "      <td>0.866676</td>\n",
       "      <td>NaN</td>\n",
       "      <td>0.865059</td>\n",
       "    </tr>\n",
       "    <tr>\n",
       "      <th>3</th>\n",
       "      <td>KNeighbors</td>\n",
       "      <td>weights=distance,p=2,n_neighbors=4,metric=l1,l...</td>\n",
       "      <td>0.875880</td>\n",
       "      <td>NaN</td>\n",
       "      <td>0.873036</td>\n",
       "    </tr>\n",
       "    <tr>\n",
       "      <th>4</th>\n",
       "      <td>KNeighbors</td>\n",
       "      <td>weights=distance,p=2,n_neighbors=5,metric=city...</td>\n",
       "      <td>0.872428</td>\n",
       "      <td>NaN</td>\n",
       "      <td>0.868247</td>\n",
       "    </tr>\n",
       "    <tr>\n",
       "      <th>...</th>\n",
       "      <td>...</td>\n",
       "      <td>...</td>\n",
       "      <td>...</td>\n",
       "      <td>...</td>\n",
       "      <td>...</td>\n",
       "    </tr>\n",
       "    <tr>\n",
       "      <th>35</th>\n",
       "      <td>XGBoost</td>\n",
       "      <td>subsample=0.5,min_child_weight=0.5263157894736...</td>\n",
       "      <td>0.918440</td>\n",
       "      <td>0.387288</td>\n",
       "      <td>0.724127</td>\n",
       "    </tr>\n",
       "    <tr>\n",
       "      <th>36</th>\n",
       "      <td>XGBoost</td>\n",
       "      <td>subsample=1,min_child_weight=2.105263157894736...</td>\n",
       "      <td>0.921127</td>\n",
       "      <td>0.406942</td>\n",
       "      <td>0.732919</td>\n",
       "    </tr>\n",
       "    <tr>\n",
       "      <th>37</th>\n",
       "      <td>XGBoost</td>\n",
       "      <td>subsample=0.5,min_child_weight=1.0526315789473...</td>\n",
       "      <td>0.917496</td>\n",
       "      <td>0.330338</td>\n",
       "      <td>0.716938</td>\n",
       "    </tr>\n",
       "    <tr>\n",
       "      <th>38</th>\n",
       "      <td>XGBoost</td>\n",
       "      <td>subsample=1,min_child_weight=0.0,max_depth=13,...</td>\n",
       "      <td>0.921926</td>\n",
       "      <td>0.406293</td>\n",
       "      <td>0.733297</td>\n",
       "    </tr>\n",
       "    <tr>\n",
       "      <th>39</th>\n",
       "      <td>XGBoost</td>\n",
       "      <td>subsample=0.5,min_child_weight=0.0,max_depth=1...</td>\n",
       "      <td>0.912630</td>\n",
       "      <td>0.375006</td>\n",
       "      <td>0.721506</td>\n",
       "    </tr>\n",
       "  </tbody>\n",
       "</table>\n",
       "<p>90 rows × 5 columns</p>\n",
       "</div>"
      ],
      "text/plain": [
       "    classifier                                             params  \\\n",
       "0   KNeighbors  weights=distance,p=1,n_neighbors=6,metric=manh...   \n",
       "1   KNeighbors  weights=uniform,p=1,n_neighbors=9,metric=eucli...   \n",
       "2   KNeighbors  weights=distance,p=1,n_neighbors=2,metric=city...   \n",
       "3   KNeighbors  weights=distance,p=2,n_neighbors=4,metric=l1,l...   \n",
       "4   KNeighbors  weights=distance,p=2,n_neighbors=5,metric=city...   \n",
       "..         ...                                                ...   \n",
       "35     XGBoost  subsample=0.5,min_child_weight=0.5263157894736...   \n",
       "36     XGBoost  subsample=1,min_child_weight=2.105263157894736...   \n",
       "37     XGBoost  subsample=0.5,min_child_weight=1.0526315789473...   \n",
       "38     XGBoost  subsample=1,min_child_weight=0.0,max_depth=13,...   \n",
       "39     XGBoost  subsample=0.5,min_child_weight=0.0,max_depth=1...   \n",
       "\n",
       "    mean_test_Accuracy  mean_test_F1_macro_deceased  mean_test_F1_macro  \n",
       "0             0.873387                          NaN            0.869667  \n",
       "1             0.843379                          NaN            0.838038  \n",
       "2             0.866676                          NaN            0.865059  \n",
       "3             0.875880                          NaN            0.873036  \n",
       "4             0.872428                          NaN            0.868247  \n",
       "..                 ...                          ...                 ...  \n",
       "35            0.918440                     0.387288            0.724127  \n",
       "36            0.921127                     0.406942            0.732919  \n",
       "37            0.917496                     0.330338            0.716938  \n",
       "38            0.921926                     0.406293            0.733297  \n",
       "39            0.912630                     0.375006            0.721506  \n",
       "\n",
       "[90 rows x 5 columns]"
      ]
     },
     "execution_count": 102,
     "metadata": {},
     "output_type": "execute_result"
    }
   ],
   "source": [
    "# after concatenating all into all_res:\n",
    "all_res = pd.concat([kn_res, xgb_res])\n",
    "all_res = all_res[['classifier','params','mean_test_Accuracy','mean_test_F1_macro_deceased','mean_test_F1_macro']]\n",
    "all_res['params'] = all_res['params'].apply(lambda x: str(x)[1:-1].replace('\\'','').replace(': ','=').replace(', ',','))\n",
    "all_res.to_csv('res.csv', index=False)\n",
    "all_res"
   ]
  },
  {
   "cell_type": "markdown",
   "id": "facf2386-697d-4b97-abcf-1d9b410b86a7",
   "metadata": {},
   "source": [
    "# TODO:\n",
    "- randomsearch strength is selecting from distributions. Might want to swap to scipy.stats instead of np.linspace or np.arange\n",
    "- class balancing\n",
    "- how to get F1 per class in GridSearchCV\n",
    "- overfitting: precision over complexity, stop tuning when train precision plateaus"
   ]
  }
 ],
 "metadata": {
  "kernelspec": {
   "display_name": "Python 3 (ipykernel)",
   "language": "python",
   "name": "python3"
  },
  "language_info": {
   "codemirror_mode": {
    "name": "ipython",
    "version": 3
   },
   "file_extension": ".py",
   "mimetype": "text/x-python",
   "name": "python",
   "nbconvert_exporter": "python",
   "pygments_lexer": "ipython3",
   "version": "3.11.6"
  }
 },
 "nbformat": 4,
 "nbformat_minor": 5
}
