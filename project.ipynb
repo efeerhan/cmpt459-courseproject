{
 "cells": [
  {
   "cell_type": "code",
   "execution_count": 29,
   "id": "c178fa21-132a-44e6-afc0-bc7244cc7e99",
   "metadata": {},
   "outputs": [],
   "source": [
    "import pandas as pd\n",
    "import numpy as np\n",
    "from typing import Mapping, Sequence\n",
    "from sklearn.model_selection import train_test_split\n",
    "from sklearn.neighbors import KNeighborsClassifier\n",
    "from sklearn.naive_bayes import GaussianNB\n",
    "from sklearn.preprocessing import LabelEncoder\n",
    "from sklearn.linear_model import LogisticRegression\n",
    "from sklearn.tree import DecisionTreeClassifier\n",
    "from sklearn.ensemble import RandomForestClassifier\n",
    "from sklearn.svm import SVC\n",
    "import xgboost\n",
    "from scipy.stats import randint"
   ]
  },
  {
   "cell_type": "code",
   "execution_count": 2,
   "id": "b5f0e356-4cef-4ca5-92f0-3919afe30c92",
   "metadata": {},
   "outputs": [],
   "source": [
    "train = pd.read_csv('data/processed/cases_train.csv', parse_dates=['date_confirmation'])\n",
    "train['date_confirmation'] = train['date_confirmation'].apply(lambda r: r.value)"
   ]
  },
  {
   "cell_type": "markdown",
   "id": "ab7ba925-5646-41a7-a80d-4306730cde0a",
   "metadata": {},
   "source": [
    "# Label Encoding"
   ]
  },
  {
   "cell_type": "code",
   "execution_count": 3,
   "id": "739229ff-323e-4705-988f-c9ffd6da3385",
   "metadata": {},
   "outputs": [],
   "source": [
    "le = LabelEncoder()\n",
    "for col in train.columns:\n",
    "    if train[col].dtype == 'object' and col != 'outcome_group':\n",
    "        train[col] = le.fit_transform(train[col])\n",
    "\n",
    "train['outcome_group'] = pd.Categorical(train['outcome_group']).codes\n",
    "X = train.iloc[:, 0:-1]\n",
    "y = train.iloc[:, -1]"
   ]
  },
  {
   "cell_type": "markdown",
   "id": "72a61cb2-a3b2-4346-bc55-54702a3bdf5e",
   "metadata": {},
   "source": [
    "# Feature Selection"
   ]
  },
  {
   "cell_type": "code",
   "execution_count": 4,
   "id": "11d13ef2-262b-41f1-9bf8-06df685f5968",
   "metadata": {},
   "outputs": [],
   "source": [
    "X_train_fs, X_valid_fs, y_train_fs, y_valid_fs = train_test_split(X, y, stratify=y, train_size=0.8)"
   ]
  },
  {
   "cell_type": "code",
   "execution_count": 6,
   "id": "4b1d0e83-2a9d-4e87-b4e9-239ea771b5cc",
   "metadata": {},
   "outputs": [
    {
     "name": "stdout",
     "output_type": "stream",
     "text": [
      "proceeding with classifier KNN with valid score 0.937264\n",
      "working with 14/14 features\n",
      "reduction \\f age: 0.0\n",
      "removing feature age\n",
      "working with 13/14 features\n",
      "reduction \\f sex: 0.002904\n",
      "removing feature sex\n",
      "working with 12/14 features\n",
      "reduction \\f province: 0.001452\n",
      "removing feature province\n",
      "working with 11/14 features\n",
      "reduction \\f country: 0.001452\n",
      "removing feature country\n",
      "done!\n"
     ]
    }
   ],
   "source": [
    "classifiers = [(LogisticRegression(),'Logistic Regression'),\n",
    "                   (GaussianNB(),'GaussianNB'),\n",
    "                   (KNeighborsClassifier(),'KNN'),\n",
    "                   (DecisionTreeClassifier(),'Decision Tree'),\n",
    "                   (SVC(),'Support Vector')]\n",
    "    \n",
    "best_score = 0\n",
    "best_classifier = None\n",
    "best_m:str = None\n",
    "for (c,m) in classifiers:\n",
    "    c.fit(X_train_fs,y_train_fs)\n",
    "    valid_score = c.score(X_valid_fs,y_valid_fs)\n",
    "    if valid_score > best_score:\n",
    "        best_score = valid_score\n",
    "        best_classifier = c\n",
    "        best_m = m\n",
    "\n",
    "print('proceeding with classifier {0} with valid score {1}'.format(best_m,round(best_score,6)))\n",
    "\n",
    "cols: Sequence[str] = X_train_fs.columns.to_list()\n",
    "desired_n_features = round(len(cols)*0.75)\n",
    "\n",
    "while (len(cols) != desired_n_features):\n",
    "    print('working with {0}/{1} features'.format(len(cols),X_train_fs.shape[1]))\n",
    "    least_reduction = 1\n",
    "    for f in cols:\n",
    "        X_train_fs_no_f = X_train_fs[cols]\n",
    "        X_valid_fs_no_f = X_valid_fs[cols]\n",
    "        best_classifier.fit(X_train_fs_no_f,y_train_fs)\n",
    "        valid_score_no_f = best_classifier.score(X_valid_fs_no_f, y_valid_fs)\n",
    "        reduction = best_score-valid_score_no_f\n",
    "        if reduction < least_reduction:\n",
    "            print('reduction \\\\f {0}: {1}'.format(f,round(reduction,6)))\n",
    "            least_reduction = reduction\n",
    "            least_reduction_feature = f\n",
    "    print('removing feature', least_reduction_feature)\n",
    "    cols.pop(cols.index(least_reduction_feature))\n",
    "print('done!')"
   ]
  },
  {
   "cell_type": "markdown",
   "id": "438e19d8",
   "metadata": {},
   "source": [
    "# Balancing Dataset"
   ]
  },
  {
   "cell_type": "code",
   "execution_count": 35,
   "id": "6d493bdb",
   "metadata": {},
   "outputs": [],
   "source": [
    "from sklearn.model_selection import StratifiedKFold\n",
    "\n",
    "X = X[cols]\n",
    "k = len(classifiers)\n",
    "k_fold = StratifiedKFold(n_splits=k, shuffle=True, random_state=42)\n",
    "X_train, X_valid, y_train, y_valid = train_test_split(X,y, train_size=0.8)"
   ]
  },
  {
   "cell_type": "markdown",
   "id": "a1945c96-ea93-47af-94ae-853fddfe93bc",
   "metadata": {},
   "source": [
    "# Building Models and Hyperparameter Tuning"
   ]
  },
  {
   "cell_type": "code",
   "execution_count": 34,
   "id": "4706ecce-e25d-438f-b05f-bcfb0e3c2d1a",
   "metadata": {},
   "outputs": [],
   "source": [
    "from sklearn.experimental import enable_halving_search_cv\n",
    "from sklearn.model_selection import HalvingRandomSearchCV\n",
    "\n",
    "import warnings\n",
    "warnings.filterwarnings('ignore') "
   ]
  },
  {
   "cell_type": "markdown",
   "id": "e83095c4",
   "metadata": {},
   "source": [
    "### Logistic Regression"
   ]
  },
  {
   "cell_type": "code",
   "execution_count": 25,
   "id": "a7f9ac73",
   "metadata": {},
   "outputs": [
    {
     "name": "stdout",
     "output_type": "stream",
     "text": [
      "best training score:  0.9371220530375567\n",
      "validation score: 0.9282602381643915\n"
     ]
    }
   ],
   "source": [
    "lr = LogisticRegression()\n",
    "params = {\n",
    "    'penalty': [None, 'l2', 'l1'],\n",
    "    'C': np.linspace(0.001,1,20),\n",
    "    'solver': ['lbfgs', 'liblinear', 'newton-cg', 'newton-cholesky', 'sag', 'saga']\n",
    "}\n",
    "best_lr = HalvingRandomSearchCV(lr, params, cv=k_fold).fit(X_train,y_train)\n",
    "print('best training score: ',best_lr.best_score_)\n",
    "print('validation score:', best_lr.score(X_valid, y_valid))"
   ]
  },
  {
   "cell_type": "markdown",
   "id": "1419ff1e",
   "metadata": {},
   "source": [
    "### GaussianNB"
   ]
  },
  {
   "cell_type": "code",
   "execution_count": 26,
   "id": "1b7b2852",
   "metadata": {},
   "outputs": [
    {
     "name": "stdout",
     "output_type": "stream",
     "text": [
      "best training score:  0.8006858710562414\n",
      "validation score: 0.7905896020911996\n"
     ]
    }
   ],
   "source": [
    "nb = GaussianNB()\n",
    "params = {\n",
    "    'var_smoothing': np.logspace(0,-9, num=100)\n",
    "}\n",
    "best_nb = HalvingRandomSearchCV(nb, params, cv=k_fold).fit(X_train,y_train)\n",
    "print('best training score: ',best_nb.best_score_)\n",
    "print('validation score:', best_nb.score(X_valid, y_valid))"
   ]
  },
  {
   "cell_type": "markdown",
   "id": "a1ad9224",
   "metadata": {},
   "source": [
    "### KNeighbors"
   ]
  },
  {
   "cell_type": "code",
   "execution_count": 27,
   "id": "52923f8e",
   "metadata": {},
   "outputs": [
    {
     "name": "stdout",
     "output_type": "stream",
     "text": [
      "best training score:  0.929690057207703\n",
      "validation score: 0.9294220156839965\n"
     ]
    }
   ],
   "source": [
    "kn = KNeighborsClassifier()\n",
    "params = {\n",
    "    'n_neighbors': np.arange(1,11,1),\n",
    "    'weights': ['uniform','distance'],\n",
    "    'algorithm': ['ball_tree','kd_tree','brute'],\n",
    "    'leaf_size': np.arange(10,201,1),\n",
    "    'p': [1,2],\n",
    "    'metric': ['cityblock','cosine','euclidean','haversine','l1','l2','manhattan']\n",
    "}\n",
    "best_kn = HalvingRandomSearchCV(kn, params, cv=k_fold).fit(X_train,y_train)\n",
    "print('best training score: ',best_kn.best_score_)\n",
    "print('validation score:', best_kn.score(X_valid, y_valid))"
   ]
  },
  {
   "cell_type": "markdown",
   "id": "13374356",
   "metadata": {},
   "source": [
    "### RandomForest"
   ]
  },
  {
   "cell_type": "code",
   "execution_count": 31,
   "id": "0967be97",
   "metadata": {},
   "outputs": [
    {
     "name": "stdout",
     "output_type": "stream",
     "text": [
      "best training score:  0.9492391868214843\n",
      "validation score: 0.9433633459192564\n"
     ]
    }
   ],
   "source": [
    "rf = RandomForestClassifier()\n",
    "params = {\n",
    "    \"max_depth\": np.arange(2,1001,1),\n",
    "    \"max_features\": np.arange(1,len(cols)+1,1),\n",
    "    \"min_samples_split\": np.arange(2,101,1),\n",
    "    \"bootstrap\": [True, False],\n",
    "    \"criterion\": [\"gini\", \"entropy\"]\n",
    "}\n",
    "best_rf = HalvingRandomSearchCV(rf, params, cv=k_fold).fit(X_train,y_train)\n",
    "print('best training score: ',best_rf.best_score_)\n",
    "print('validation score:', best_rf.score(X_valid, y_valid))"
   ]
  },
  {
   "cell_type": "markdown",
   "id": "15953736",
   "metadata": {},
   "source": [
    "### SVC"
   ]
  },
  {
   "cell_type": "code",
   "execution_count": null,
   "id": "cac91f8a",
   "metadata": {},
   "outputs": [],
   "source": [
    "svc = SVC()\n",
    "params = {\n",
    "    'C': np.linspace(),\n",
    "    'kernel': ['linear','poly','rbf','sigmoid','precomputed'],\n",
    "    'degree': np.linspace(),\n",
    "    'gamma': ['scale','auto'],\n",
    "    'coef0': np.arange(),\n",
    "    'shrinking': [True,False],\n",
    "    'tol': np.arange(),\n",
    "    'class_weight': [None, 'balanced'],\n",
    "    'decision_function_shape': ['ovo', 'ovr']\n",
    "}\n",
    "best_svc = HalvingRandomSearchCV(svc, params, cv=k_fold).fit(X_train,y_train)\n",
    "print('best training score: ',best_svc.best_score_)\n",
    "print('validation score:', best_svc.score(X_valid, y_valid))"
   ]
  },
  {
   "cell_type": "markdown",
   "id": "1bfc1896",
   "metadata": {},
   "source": [
    "### XGBoost"
   ]
  },
  {
   "cell_type": "code",
   "execution_count": null,
   "id": "a3badbe4",
   "metadata": {},
   "outputs": [],
   "source": [
    "xgb = xgboost()\n",
    "params = {\n",
    "}\n",
    "best_xgb = HalvingRandomSearchCV(xgb, params, cv=k_fold).fit(X_train,y_train)\n",
    "print('best training score: ',best_xgb.best_score_)\n",
    "print('validation score:', best_xgb.score(X_valid, y_valid))"
   ]
  },
  {
   "cell_type": "markdown",
   "id": "facf2386-697d-4b97-abcf-1d9b410b86a7",
   "metadata": {},
   "source": [
    "# TODO:\n",
    "- randomsearch strength is selecting from distributions. Might want to swap to scipy.stats instead of np.linspace or np.arange\n",
    "- class balancing"
   ]
  },
  {
   "cell_type": "code",
   "execution_count": null,
   "id": "bba96aed",
   "metadata": {},
   "outputs": [],
   "source": []
  }
 ],
 "metadata": {
  "kernelspec": {
   "display_name": "Python 3 (ipykernel)",
   "language": "python",
   "name": "python3"
  },
  "language_info": {
   "codemirror_mode": {
    "name": "ipython",
    "version": 3
   },
   "file_extension": ".py",
   "mimetype": "text/x-python",
   "name": "python",
   "nbconvert_exporter": "python",
   "pygments_lexer": "ipython3",
   "version": "3.11.6"
  }
 },
 "nbformat": 4,
 "nbformat_minor": 5
}
