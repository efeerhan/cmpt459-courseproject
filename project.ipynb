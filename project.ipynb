{
 "cells": [
  {
   "cell_type": "code",
   "execution_count": 71,
   "id": "c178fa21-132a-44e6-afc0-bc7244cc7e99",
   "metadata": {},
   "outputs": [],
   "source": [
    "import pandas as pd\n",
    "import numpy as np\n",
    "from typing import Sequence\n",
    "from sklearn.model_selection import train_test_split\n",
    "from sklearn.neighbors import KNeighborsClassifier\n",
    "from xgboost import XGBClassifier\n",
    "from sklearn.preprocessing import LabelEncoder\n",
    "from sklearn.preprocessing import StandardScaler\n",
    "from sklearn.metrics import make_scorer, f1_score"
   ]
  },
  {
   "cell_type": "markdown",
   "id": "ab7ba925-5646-41a7-a80d-4306730cde0a",
   "metadata": {},
   "source": [
    "# Data Loading, Label Encoding"
   ]
  },
  {
   "cell_type": "code",
   "execution_count": 72,
   "id": "b5f0e356-4cef-4ca5-92f0-3919afe30c92",
   "metadata": {},
   "outputs": [],
   "source": [
    "train = pd.read_csv('data/processed/cases_train.csv', parse_dates=['date_confirmation'])\n",
    "train['date_confirmation'] = train['date_confirmation'].apply(lambda r: r.value)\n",
    "# 0 hospitalized\n",
    "# 1 nonhospitalized\n",
    "# 6 deceased"
   ]
  },
  {
   "cell_type": "code",
   "execution_count": 73,
   "id": "739229ff-323e-4705-988f-c9ffd6da3385",
   "metadata": {},
   "outputs": [],
   "source": [
    "le = LabelEncoder()\n",
    "for col in train.columns:\n",
    "    if train[col].dtype == 'object' and col != 'outcome_group':\n",
    "        train[col] = le.fit_transform(train[col])\n",
    "\n",
    "train['outcome_group'] = pd.Categorical(train['outcome_group']).codes\n",
    "X = train.iloc[:, 0:-1]\n",
    "y = train.iloc[:, -1]"
   ]
  },
  {
   "cell_type": "code",
   "execution_count": 74,
   "id": "92334ca1",
   "metadata": {},
   "outputs": [
    {
     "name": "stdout",
     "output_type": "stream",
     "text": [
      "0 1 2\n"
     ]
    }
   ],
   "source": [
    "print(train['outcome_group'].loc[6],train['outcome_group'].loc[0],train['outcome_group'].loc[1])"
   ]
  },
  {
   "cell_type": "markdown",
   "id": "72a61cb2-a3b2-4346-bc55-54702a3bdf5e",
   "metadata": {},
   "source": [
    "# Feature Selection"
   ]
  },
  {
   "cell_type": "code",
   "execution_count": 75,
   "id": "11d13ef2-262b-41f1-9bf8-06df685f5968",
   "metadata": {},
   "outputs": [],
   "source": [
    "X_train, X_valid, y_train, y_valid = train_test_split(X, y, stratify=y, train_size=0.8)"
   ]
  },
  {
   "cell_type": "code",
   "execution_count": 46,
   "id": "4b1d0e83-2a9d-4e87-b4e9-239ea771b5cc",
   "metadata": {},
   "outputs": [
    {
     "name": "stdout",
     "output_type": "stream",
     "text": [
      "working with 14/14 features\n",
      "new valid:  0.7409916846263886\n",
      "removing feature sex\n",
      "working with 13/14 features\n",
      "new valid:  0.7417347314269834\n",
      "removing feature latitude\n",
      "working with 12/14 features\n",
      "new valid:  0.7424537054162929\n",
      "removing feature Confirmed\n",
      "working with 11/14 features\n",
      "new valid:  0.7453752163123181\n",
      "removing feature Recovered\n",
      "done!\n"
     ]
    }
   ],
   "source": [
    "cols: Sequence[str] = X_train.columns.to_list()\n",
    "desired_n_features = round(len(cols)*0.75)\n",
    "# desired_n_features = 10\n",
    "\n",
    "while (len(cols) != desired_n_features):\n",
    "    print('working with {0}/{1} features'.format(len(cols),X_train.shape[1]))\n",
    "    highest_score = 0\n",
    "    least_reduction_feature: str\n",
    "    for f in cols:\n",
    "        cols_t = [f_ for f_ in cols if f_ != f]\n",
    "        X_train_fs_no_f = X_train[cols_t]\n",
    "        X_valid_fs_no_f = X_valid[cols_t]\n",
    "        pred = KNeighborsClassifier().fit(X_train_fs_no_f,y_train).predict(X_valid_fs_no_f)\n",
    "        valid_score_no_f = f1_score(y_valid, pred, average='macro')\n",
    "        if valid_score_no_f > highest_score:\n",
    "            highest_score = valid_score_no_f\n",
    "            least_reduction_feature = f\n",
    "    print('new valid: ',highest_score)\n",
    "    print('removing feature', least_reduction_feature)\n",
    "    cols.pop(cols.index(least_reduction_feature))\n",
    "print('done!')\n",
    "\n",
    "X_train_kn = X_train[cols]\n",
    "X_valid_kn = X_valid[cols]"
   ]
  },
  {
   "cell_type": "code",
   "execution_count": 76,
   "id": "3444b3cd",
   "metadata": {},
   "outputs": [
    {
     "name": "stdout",
     "output_type": "stream",
     "text": [
      "working with 14/14 features\n",
      "new valid:  0.7901551768846599\n",
      "removing feature Recovered\n",
      "working with 13/14 features\n",
      "new valid:  0.7913145834228031\n",
      "removing feature sex\n",
      "working with 12/14 features\n",
      "new valid:  0.793469011341336\n",
      "removing feature longitude\n",
      "working with 11/14 features\n",
      "new valid:  0.7985674069004115\n",
      "removing feature province\n",
      "done!\n"
     ]
    }
   ],
   "source": [
    "cols: Sequence[str] = X_train.columns.to_list()\n",
    "desired_n_features = round(len(cols)*0.75)\n",
    "# desired_n_features = 10\n",
    "\n",
    "while (len(cols) != desired_n_features):\n",
    "    print('working with {0}/{1} features'.format(len(cols),X_train.shape[1]))\n",
    "    highest_score = 0\n",
    "    least_reduction_feature: str\n",
    "    for f in cols:\n",
    "        cols_t = [f_ for f_ in cols if f_ != f]\n",
    "        X_train_fs_no_f = X_train[cols_t]\n",
    "        X_valid_fs_no_f = X_valid[cols_t]\n",
    "        pred = XGBClassifier().fit(X_train_fs_no_f,y_train).predict(X_valid_fs_no_f)\n",
    "        valid_score_no_f = f1_score(y_valid, pred, average='macro')\n",
    "        if valid_score_no_f > highest_score:\n",
    "            highest_score = valid_score_no_f\n",
    "            least_reduction_feature = f\n",
    "    print('new valid: ',highest_score)\n",
    "    print('removing feature', least_reduction_feature)\n",
    "    cols.pop(cols.index(least_reduction_feature))\n",
    "print('done!')\n",
    "\n",
    "X_train_xgb = X_train[cols]\n",
    "X_valid_xgb = X_valid[cols]"
   ]
  },
  {
   "cell_type": "markdown",
   "id": "438e19d8",
   "metadata": {},
   "source": [
    "# Balancing Dataset\n",
    "### Initialize KFold, 80:20 split, class weights, scoring criteria"
   ]
  },
  {
   "cell_type": "code",
   "execution_count": 77,
   "id": "6d493bdb",
   "metadata": {},
   "outputs": [],
   "source": [
    "from sklearn.model_selection import StratifiedKFold, RandomizedSearchCV\n",
    "from sklearn.utils import class_weight\n",
    "import warnings\n",
    "warnings.filterwarnings('ignore') \n",
    "from collections import Counter\n",
    "import matplotlib.pyplot as plt\n",
    "from sklearn.decomposition import PCA\n",
    "\n",
    "k_fold = StratifiedKFold(n_splits=10, shuffle=True)\n",
    "\n",
    "def f1_deceased_func(y_true, y_pred):\n",
    "    return f1_score(y_true, y_pred, average=None)[0]\n",
    "f1_deceased = make_scorer(f1_deceased_func)\n",
    "\n",
    "scoring = {\n",
    "    'Accuracy': 'accuracy',\n",
    "    'F1_macro': 'f1_macro',\n",
    "    'F1_macro_deceased': f1_deceased,\n",
    "    # 'ROC': 'roc_auc_ovr_weighted'\n",
    "}"
   ]
  },
  {
   "cell_type": "markdown",
   "id": "ecb0db33",
   "metadata": {},
   "source": [
    "### Scaling and Oversampling"
   ]
  },
  {
   "cell_type": "code",
   "execution_count": 78,
   "id": "64bf2e78",
   "metadata": {},
   "outputs": [
    {
     "name": "stdout",
     "output_type": "stream",
     "text": [
      "Counter({1: 10592, 2: 2379, 0: 798})\n",
      "Counter({0: 8217, 1: 8217, 2: 8217})\n"
     ]
    }
   ],
   "source": [
    "from imblearn.combine import SMOTETomek\n",
    "from imblearn.over_sampling import SMOTE\n",
    "from imblearn.under_sampling import ClusterCentroids\n",
    "\n",
    "print(Counter(y_train))\n",
    "\n",
    "std = StandardScaler()\n",
    "std.fit(X_train_kn)\n",
    "X_train_kn_scaled = std.transform(X_train_kn)\n",
    "X_valid_kn_scaled = std.transform(X_valid_kn)\n",
    "\n",
    "sm = SMOTETomek(sampling_strategy='minority', smote=SMOTE(k_neighbors=50), n_jobs=-1)\n",
    "X_train_res, y_train_res = sm.fit_resample(X_train_kn_scaled,y_train)\n",
    "\n",
    "under = ClusterCentroids()\n",
    "X_train_res, y_train_res = under.fit_resample(X_train_res,y_train_res)\n",
    "\n",
    "print(Counter(y_train_res))"
   ]
  },
  {
   "cell_type": "markdown",
   "id": "f31b4272",
   "metadata": {},
   "source": [
    "### Before SMOTETomek"
   ]
  },
  {
   "cell_type": "code",
   "execution_count": 59,
   "id": "8e0881e6",
   "metadata": {},
   "outputs": [
    {
     "data": {
      "image/png": "[encoded data removed]",
      "text/plain": [
       "<Figure size 640x480 with 1 Axes>"
      ]
     },
     "metadata": {},
     "output_type": "display_data"
    }
   ],
   "source": [
    "std = StandardScaler()\n",
    "pca = PCA(n_components=2)\n",
    "X_pca = pca.fit_transform(std.fit_transform(X_train_kn))\n",
    "target_names = ['0','1','2']\n",
    "\n",
    "plt.figure()\n",
    "colors = ['navy', 'turquoise', 'darkorange']\n",
    "for color, i, target_name in zip(colors, [0, 1, 2], target_names):\n",
    "    plt.scatter(X_pca[y_train == i, 0], X_pca[y_train == i, 1], color=color, alpha=.5, lw=0.2, label=target_name)\n",
    "plt.legend(loc='best', shadow=False, scatterpoints=1)\n",
    "\n",
    "plt.show()"
   ]
  },
  {
   "cell_type": "markdown",
   "id": "aa27007c",
   "metadata": {},
   "source": [
    "### After SMOTETomek"
   ]
  },
  {
   "cell_type": "code",
   "execution_count": 60,
   "id": "7f25fe3c",
   "metadata": {},
   "outputs": [
    {
     "data": {
      "image/png": "[encoded data removed]",
      "text/plain": [
       "<Figure size 640x480 with 1 Axes>"
      ]
     },
     "metadata": {},
     "output_type": "display_data"
    }
   ],
   "source": [
    "pca = PCA(n_components=2)\n",
    "X_pca = pca.fit_transform(X_train_res)\n",
    "target_names = ['0','1','2']\n",
    "\n",
    "plt.figure()\n",
    "colors = ['navy', 'turquoise', 'darkorange']\n",
    "for color, i, target_name in zip(colors, [0, 1, 2], target_names):\n",
    "    plt.scatter(X_pca[y_train_res == i, 0], X_pca[y_train_res == i, 1], color=color, alpha=.5, lw=0.2, label=target_name)\n",
    "plt.legend(loc='best', shadow=False, scatterpoints=1)\n",
    "\n",
    "plt.show()"
   ]
  },
  {
   "cell_type": "markdown",
   "id": "a1945c96-ea93-47af-94ae-853fddfe93bc",
   "metadata": {},
   "source": [
    "# Hyperparameter Tuning"
   ]
  },
  {
   "cell_type": "code",
   "execution_count": 79,
   "id": "ca3d2e36",
   "metadata": {},
   "outputs": [],
   "source": [
    "def clf_stats(search, res, X_valid):\n",
    "    mean_cols = []\n",
    "    for col in res.columns:\n",
    "        if ('test' in col) & ('split' in col):\n",
    "            mean_cols.append(col)\n",
    "\n",
    "    pred = search.predict(X_valid)\n",
    "    print('valid F1 macro: ', f1_score(y_valid,pred, average='macro'))\n",
    "    print('valid deceased: ', f1_score(y_valid,pred, average=None)[0])\n",
    "    check = pd.DataFrame({'pred': pred, 'actual': y_valid})\n",
    "    check['correct'] = check['pred'] == check['actual']\n",
    "    print('valid accuracy: ', len(check[check['correct'] == True])/len(pred))\n",
    "    print(f'Best Classifier:\\n{res[mean_cols].iloc[search.best_index_]}')\n",
    "    print('minmin: ', pd.DataFrame(search.cv_results_)[mean_cols].min().min())\n",
    "    print(search.best_params_)\n",
    "    incorrect = check[check['correct'] == False]\n",
    "    total = len(incorrect)\n",
    "    n_0 = len(incorrect[(incorrect['actual'] == 0) | (incorrect['pred'] == 0)]) \n",
    "    p0w1 = len(incorrect[(incorrect['actual'] == 1) & (incorrect['pred'] == 0)])\n",
    "    p0w2 = len(incorrect[(incorrect['actual'] == 2) & (incorrect['pred'] == 0)])\n",
    "    p1w0 = len(incorrect[(incorrect['actual'] == 0) & (incorrect['pred'] == 1)])\n",
    "    p1w2 = len(incorrect[(incorrect['actual'] == 2) & (incorrect['pred'] == 1)])\n",
    "    p2w0 = len(incorrect[(incorrect['actual'] == 0) & (incorrect['pred'] == 2)])\n",
    "    p2w1 = len(incorrect[(incorrect['actual'] == 1) & (incorrect['pred'] == 2)])\n",
    "    print(f'total incorrect: {total}/{len(X_valid)}')\n",
    "    print('predicted 0, was 1:', p0w1)\n",
    "    print('predicted 0, was 2:', p0w2)\n",
    "    print('predicted 1, was 0:', p1w0)\n",
    "    print('predicted 1, was 2:', p1w2)\n",
    "    print('predicted 2, was 0:', p2w0)\n",
    "    print('predicted 2, was 1:', p2w1)\n",
    "    # print(f'total 2-0 confusions: {p0w2+p2w0}/{total}')\n",
    "    # print(f'total 1-0 confusions: {p0w1+p1w0}/{total}')\n",
    "    # print(f'total 2-1 confusions: {p1w2+p2w1}/{total}')\n",
    "    print(f'number of errors involving 0: {n_0}/{total}')"
   ]
  },
  {
   "cell_type": "markdown",
   "id": "a1ad9224",
   "metadata": {},
   "source": [
    "### KNeighbors"
   ]
  },
  {
   "cell_type": "code",
   "execution_count": 37,
   "id": "52923f8e",
   "metadata": {},
   "outputs": [
    {
     "name": "stdout",
     "output_type": "stream",
     "text": [
      "valid F1 macro:  0.7545319544829171\n",
      "valid deceased:  0.4540540540540541\n",
      "valid accuracy:  0.9058960209119954\n",
      "Best Classifier:\n",
      "split0_test_Accuracy             0.871252\n",
      "split1_test_Accuracy             0.864903\n",
      "split2_test_Accuracy             0.863492\n",
      "split3_test_Accuracy             0.862787\n",
      "split4_test_Accuracy             0.873369\n",
      "split5_test_Accuracy             0.871605\n",
      "split6_test_Accuracy             0.862787\n",
      "split7_test_Accuracy             0.875485\n",
      "split8_test_Accuracy             0.867372\n",
      "split9_test_Accuracy             0.865256\n",
      "split0_test_F1_macro             0.869961\n",
      "split1_test_F1_macro             0.864512\n",
      "split2_test_F1_macro             0.862595\n",
      "split3_test_F1_macro             0.861108\n",
      "split4_test_F1_macro             0.872558\n",
      "split5_test_F1_macro             0.870427\n",
      "split6_test_F1_macro             0.861614\n",
      "split7_test_F1_macro             0.874854\n",
      "split8_test_F1_macro             0.866602\n",
      "split9_test_F1_macro             0.864337\n",
      "split0_test_F1_macro_deceased    0.809809\n",
      "split1_test_F1_macro_deceased    0.804025\n",
      "split2_test_F1_macro_deceased    0.799569\n",
      "split3_test_F1_macro_deceased    0.793826\n",
      "split4_test_F1_macro_deceased    0.815690\n",
      "split5_test_F1_macro_deceased    0.808256\n",
      "split6_test_F1_macro_deceased    0.799565\n",
      "split7_test_F1_macro_deceased    0.814616\n",
      "split8_test_F1_macro_deceased    0.807242\n",
      "split9_test_F1_macro_deceased    0.803869\n",
      "Name: 17, dtype: float64\n",
      "minmin:  0.7313844456701599\n",
      "{'weights': 'distance', 'p': 2, 'n_neighbors': 109, 'metric': 'manhattan', 'leaf_size': 36, 'algorithm': 'brute'}\n",
      "total incorrect: 324/3443\n",
      "predicted 0, was 1: 123\n",
      "predicted 0, was 2: 107\n",
      "predicted 1, was 0: 22\n",
      "predicted 1, was 2: 13\n",
      "predicted 2, was 0: 51\n",
      "predicted 2, was 1: 8\n",
      "number of errors involving 0: 303/324\n"
     ]
    }
   ],
   "source": [
    "kn = KNeighborsClassifier()\n",
    "params = {\n",
    "    'n_neighbors': np.arange(100,200,1),\n",
    "    'weights': ['uniform','distance'],\n",
    "    'algorithm': ['ball_tree','kd_tree','brute'],\n",
    "    'leaf_size': np.arange(10,50,1),\n",
    "    'p': [1,2],\n",
    "    'metric': ['cityblock','euclidean','l1','l2','manhattan']\n",
    "}\n",
    "kn_search = RandomizedSearchCV(kn,\n",
    "                               params,\n",
    "                               cv=k_fold,\n",
    "                               scoring=scoring,\n",
    "                               refit='F1_macro_deceased',\n",
    "                               n_iter=50,\n",
    "                               n_jobs=-1,\n",
    "                               error_score='raise').fit(X_train_res,y_train_res)\n",
    "\n",
    "kn_res = pd.DataFrame(kn_search.cv_results_)\n",
    "kn_res['classifier'] = 'KNeighbors'\n",
    "clf_stats(kn_search, kn_res, X_valid_kn_scaled)"
   ]
  },
  {
   "cell_type": "markdown",
   "id": "1bfc1896",
   "metadata": {},
   "source": [
    "### XGBoost\n",
    "Reference: https://xgboost.readthedocs.io/en/latest/tutorials/param_tuning.html"
   ]
  },
  {
   "cell_type": "code",
   "execution_count": 89,
   "id": "a3badbe4",
   "metadata": {},
   "outputs": [
    {
     "name": "stdout",
     "output_type": "stream",
     "text": [
      "valid F1 macro:  0.7880050170062486\n",
      "valid deceased:  0.5238095238095238\n",
      "valid accuracy:  0.9343595701423177\n",
      "Best Classifier:\n",
      "split0_test_Accuracy             0.920116\n",
      "split1_test_Accuracy             0.922295\n",
      "split2_test_Accuracy             0.925200\n",
      "split3_test_Accuracy             0.934641\n",
      "split4_test_Accuracy             0.941176\n",
      "split5_test_Accuracy             0.927378\n",
      "split6_test_Accuracy             0.928105\n",
      "split7_test_Accuracy             0.926652\n",
      "split8_test_Accuracy             0.936819\n",
      "split9_test_Accuracy             0.934593\n",
      "split0_test_F1_macro             0.755849\n",
      "split1_test_F1_macro             0.758630\n",
      "split2_test_F1_macro             0.774890\n",
      "split3_test_F1_macro             0.800609\n",
      "split4_test_F1_macro             0.814679\n",
      "split5_test_F1_macro             0.781348\n",
      "split6_test_F1_macro             0.780786\n",
      "split7_test_F1_macro             0.777359\n",
      "split8_test_F1_macro             0.782873\n",
      "split9_test_F1_macro             0.791644\n",
      "split0_test_F1_macro_deceased    0.462366\n",
      "split1_test_F1_macro_deceased    0.469274\n",
      "split2_test_F1_macro_deceased    0.515789\n",
      "split3_test_F1_macro_deceased    0.566474\n",
      "split4_test_F1_macro_deceased    0.578313\n",
      "split5_test_F1_macro_deceased    0.522727\n",
      "split6_test_F1_macro_deceased    0.505747\n",
      "split7_test_F1_macro_deceased    0.519337\n",
      "split8_test_F1_macro_deceased    0.493827\n",
      "split9_test_F1_macro_deceased    0.539877\n",
      "Name: 12, dtype: float64\n",
      "minmin:  0.418848167539267\n",
      "{'subsample': 1, 'min_child_weight': 0.5263157894736842, 'max_depth': 12, 'lambda': 2.3684210526315788, 'gamma': 2.3684210526315788, 'eta': 0.2236842105263158, 'booster': 'gbtree', 'alpha': 0.7894736842105263}\n",
      "total incorrect: 226/3443\n",
      "predicted 0, was 1: 30\n",
      "predicted 0, was 2: 81\n",
      "predicted 1, was 0: 30\n",
      "predicted 1, was 2: 19\n",
      "predicted 2, was 0: 59\n",
      "predicted 2, was 1: 7\n",
      "number of errors involving 0: 200/226\n"
     ]
    }
   ],
   "source": [
    "distr = Counter(y_train)\n",
    "w0 = len(y_train)/(distr[0]*3)\n",
    "w1 = len(y_train)/(distr[1]*3)\n",
    "w2 = len(y_train)/(distr[2]*3)\n",
    "s0 = 0.08\n",
    "s1 = 0.12\n",
    "s2 = 0.12\n",
    "class_weights_dict = {0: s0*w0, 1: s1*w1, 2: s2*w2}\n",
    "# class_weights_dict = {0: 1, 1: 1, 2: 1}\n",
    "class_weights = class_weight.compute_sample_weight(class_weight=class_weights_dict, y=y_train)\n",
    "\n",
    "xgb = XGBClassifier(objective='multi:softmax', tree_method='exact', num_class=3, eval_metric='mlogloss')\n",
    "params = {\n",
    "    'booster' : ['gbtree'],\n",
    "    'eta': np.linspace(0.01,0.3,20),\n",
    "    'gamma': np.linspace(0,3,20),\n",
    "    'max_depth': np.arange(1,20,1),\n",
    "    'min_child_weight': np.linspace(0,10,20),\n",
    "    'subsample': [0.5,1],\n",
    "    'lambda': np.linspace(0,5,20),\n",
    "    'alpha': np.linspace(0,5,20)\n",
    "}\n",
    "xgb_search = RandomizedSearchCV(xgb,\n",
    "                                params,\n",
    "                                cv=k_fold,\n",
    "                                scoring=scoring,\n",
    "                                refit='Accuracy',\n",
    "                                n_jobs=None,\n",
    "                                n_iter=30\n",
    "                                ).fit(X_train_xgb,y_train,sample_weight=class_weights)\n",
    "xgb_res = pd.DataFrame(xgb_search.cv_results_)\n",
    "xgb_res['classifier'] = 'XGBoost'\n",
    "clf_stats(xgb_search, xgb_res, X_valid_xgb)"
   ]
  },
  {
   "cell_type": "markdown",
   "id": "c529425c",
   "metadata": {},
   "source": [
    "### Compile CV Results"
   ]
  },
  {
   "cell_type": "code",
   "execution_count": 95,
   "id": "0703e2ea",
   "metadata": {},
   "outputs": [
    {
     "data": {
      "text/html": [
       "<div>\n",
       "<style scoped>\n",
       "    .dataframe tbody tr th:only-of-type {\n",
       "        vertical-align: middle;\n",
       "    }\n",
       "\n",
       "    .dataframe tbody tr th {\n",
       "        vertical-align: top;\n",
       "    }\n",
       "\n",
       "    .dataframe thead th {\n",
       "        text-align: right;\n",
       "    }\n",
       "</style>\n",
       "<table border=\"1\" class=\"dataframe\">\n",
       "  <thead>\n",
       "    <tr style=\"text-align: right;\">\n",
       "      <th></th>\n",
       "      <th>classifier</th>\n",
       "      <th>params</th>\n",
       "      <th>mean_test_F1_macro</th>\n",
       "      <th>mean_test_F1_macro_deceased</th>\n",
       "      <th>mean_test_Accuracy</th>\n",
       "    </tr>\n",
       "  </thead>\n",
       "  <tbody>\n",
       "    <tr>\n",
       "      <th>0</th>\n",
       "      <td>XGBoost</td>\n",
       "      <td>subsample=0.5,min_child_weight=2.1052631578947...</td>\n",
       "      <td>0.778159</td>\n",
       "      <td>0.510604</td>\n",
       "      <td>0.926574</td>\n",
       "    </tr>\n",
       "    <tr>\n",
       "      <th>1</th>\n",
       "      <td>XGBoost</td>\n",
       "      <td>subsample=1,min_child_weight=5.789473684210526...</td>\n",
       "      <td>0.779412</td>\n",
       "      <td>0.520224</td>\n",
       "      <td>0.927156</td>\n",
       "    </tr>\n",
       "    <tr>\n",
       "      <th>2</th>\n",
       "      <td>XGBoost</td>\n",
       "      <td>subsample=1,min_child_weight=5.789473684210526...</td>\n",
       "      <td>0.779849</td>\n",
       "      <td>0.519599</td>\n",
       "      <td>0.927809</td>\n",
       "    </tr>\n",
       "    <tr>\n",
       "      <th>3</th>\n",
       "      <td>XGBoost</td>\n",
       "      <td>subsample=1,min_child_weight=4.736842105263157...</td>\n",
       "      <td>0.776260</td>\n",
       "      <td>0.516011</td>\n",
       "      <td>0.925775</td>\n",
       "    </tr>\n",
       "    <tr>\n",
       "      <th>4</th>\n",
       "      <td>XGBoost</td>\n",
       "      <td>subsample=0.5,min_child_weight=8.9473684210526...</td>\n",
       "      <td>0.766375</td>\n",
       "      <td>0.490471</td>\n",
       "      <td>0.919239</td>\n",
       "    </tr>\n",
       "    <tr>\n",
       "      <th>...</th>\n",
       "      <td>...</td>\n",
       "      <td>...</td>\n",
       "      <td>...</td>\n",
       "      <td>...</td>\n",
       "      <td>...</td>\n",
       "    </tr>\n",
       "    <tr>\n",
       "      <th>45</th>\n",
       "      <td>KNeighbors</td>\n",
       "      <td>weights=distance,p=2,n_neighbors=123,metric=l1...</td>\n",
       "      <td>0.865240</td>\n",
       "      <td>0.803097</td>\n",
       "      <td>0.866279</td>\n",
       "    </tr>\n",
       "    <tr>\n",
       "      <th>46</th>\n",
       "      <td>KNeighbors</td>\n",
       "      <td>weights=uniform,p=1,n_neighbors=106,metric=l1,...</td>\n",
       "      <td>0.841341</td>\n",
       "      <td>0.769334</td>\n",
       "      <td>0.842434</td>\n",
       "    </tr>\n",
       "    <tr>\n",
       "      <th>47</th>\n",
       "      <td>KNeighbors</td>\n",
       "      <td>weights=uniform,p=2,n_neighbors=146,metric=man...</td>\n",
       "      <td>0.835653</td>\n",
       "      <td>0.760182</td>\n",
       "      <td>0.837037</td>\n",
       "    </tr>\n",
       "    <tr>\n",
       "      <th>48</th>\n",
       "      <td>KNeighbors</td>\n",
       "      <td>weights=uniform,p=2,n_neighbors=117,metric=cit...</td>\n",
       "      <td>0.839703</td>\n",
       "      <td>0.766044</td>\n",
       "      <td>0.840952</td>\n",
       "    </tr>\n",
       "    <tr>\n",
       "      <th>49</th>\n",
       "      <td>KNeighbors</td>\n",
       "      <td>weights=uniform,p=1,n_neighbors=177,metric=cit...</td>\n",
       "      <td>0.832579</td>\n",
       "      <td>0.754682</td>\n",
       "      <td>0.834462</td>\n",
       "    </tr>\n",
       "  </tbody>\n",
       "</table>\n",
       "<p>80 rows × 5 columns</p>\n",
       "</div>"
      ],
      "text/plain": [
       "    classifier                                             params  \\\n",
       "0      XGBoost  subsample=0.5,min_child_weight=2.1052631578947...   \n",
       "1      XGBoost  subsample=1,min_child_weight=5.789473684210526...   \n",
       "2      XGBoost  subsample=1,min_child_weight=5.789473684210526...   \n",
       "3      XGBoost  subsample=1,min_child_weight=4.736842105263157...   \n",
       "4      XGBoost  subsample=0.5,min_child_weight=8.9473684210526...   \n",
       "..         ...                                                ...   \n",
       "45  KNeighbors  weights=distance,p=2,n_neighbors=123,metric=l1...   \n",
       "46  KNeighbors  weights=uniform,p=1,n_neighbors=106,metric=l1,...   \n",
       "47  KNeighbors  weights=uniform,p=2,n_neighbors=146,metric=man...   \n",
       "48  KNeighbors  weights=uniform,p=2,n_neighbors=117,metric=cit...   \n",
       "49  KNeighbors  weights=uniform,p=1,n_neighbors=177,metric=cit...   \n",
       "\n",
       "    mean_test_F1_macro  mean_test_F1_macro_deceased  mean_test_Accuracy  \n",
       "0             0.778159                     0.510604            0.926574  \n",
       "1             0.779412                     0.520224            0.927156  \n",
       "2             0.779849                     0.519599            0.927809  \n",
       "3             0.776260                     0.516011            0.925775  \n",
       "4             0.766375                     0.490471            0.919239  \n",
       "..                 ...                          ...                 ...  \n",
       "45            0.865240                     0.803097            0.866279  \n",
       "46            0.841341                     0.769334            0.842434  \n",
       "47            0.835653                     0.760182            0.837037  \n",
       "48            0.839703                     0.766044            0.840952  \n",
       "49            0.832579                     0.754682            0.834462  \n",
       "\n",
       "[80 rows x 5 columns]"
      ]
     },
     "execution_count": 95,
     "metadata": {},
     "output_type": "execute_result"
    }
   ],
   "source": [
    "all_res = pd.concat([xgb_res, kn_res])\n",
    "all_res = all_res[['classifier','params','mean_test_F1_macro','mean_test_F1_macro_deceased','mean_test_Accuracy']]\n",
    "all_res['params'] = all_res['params'].apply(lambda x: str(x)[1:-1].replace('\\'','').replace(': ','=').replace(', ',','))\n",
    "# all_res.to_csv('res.csv', index=False)\n",
    "all_res"
   ]
  },
  {
   "cell_type": "markdown",
   "id": "6dd65676",
   "metadata": {},
   "source": [
    "# Overfitting"
   ]
  },
  {
   "cell_type": "markdown",
   "id": "3e2d6e58",
   "metadata": {},
   "source": [
    "### KNeigbors"
   ]
  },
  {
   "cell_type": "code",
   "execution_count": null,
   "id": "4d1d4a4f",
   "metadata": {},
   "outputs": [],
   "source": [
    "from sklearn.metrics import accuracy_score\n",
    "\n",
    "nn = np.arange(1,201,2)\n",
    "perf_train = []\n",
    "perf_valid = []\n",
    "\n",
    "highest_valid = 0\n",
    "best_pred = None\n",
    "best_nn = 1\n",
    "for i in nn:\n",
    "    kn_of = KNeighborsClassifier(n_neighbors=i, weights='distance', p=2, metric='l1', leaf_size=10, algorithm='ball_tree', n_jobs=-1)\n",
    "    kn_of.fit(X_train_res,y_train_res)\n",
    "    pred_train = kn_of.predict(X_train_kn_scaled)\n",
    "    pred_valid = kn_of.predict(X_valid_kn_scaled)\n",
    "    f1_train = f1_deceased_func(y_train,pred_train)\n",
    "    f1_valid = f1_deceased_func(y_valid,pred_valid)\n",
    "    perf_train.append(f1_train)\n",
    "    perf_valid.append(f1_valid)\n",
    "    if f1_valid > highest_valid:\n",
    "        best_pred = pred_valid\n",
    "        highest_valid = f1_valid\n",
    "        best_nn = i\n",
    "perf_train_np = np.array(perf_train)\n",
    "perf_valid_np = np.array(perf_valid)\n",
    "\n",
    "plt.plot(nn, perf_train)\n",
    "plt.plot(nn, perf_valid)\n",
    "plt.show()\n",
    "\n",
    "print(best_nn)\n",
    "print(highest_valid)\n",
    "print(f1_score(y_valid, best_pred))\n",
    "print(accuracy_score(y_valid, best_pred))\n"
   ]
  },
  {
   "cell_type": "markdown",
   "id": "44f0f5cf",
   "metadata": {},
   "source": [
    "### XGBoost"
   ]
  },
  {
   "cell_type": "code",
   "execution_count": 94,
   "id": "e0314067",
   "metadata": {},
   "outputs": [
    {
     "data": {
      "image/png": "[encoded data removed]",
      "text/plain": [
       "<Figure size 640x480 with 1 Axes>"
      ]
     },
     "metadata": {},
     "output_type": "display_data"
    },
    {
     "name": "stdout",
     "output_type": "stream",
     "text": [
      "5\n",
      "0.7890606305311049\n",
      "[0.52757794 0.9841927  0.85541126]\n",
      "0.9349404589021203\n"
     ]
    }
   ],
   "source": [
    "from sklearn.metrics import accuracy_score\n",
    "\n",
    "max_depth = np.arange(1,20,1)\n",
    "perf_train = []\n",
    "perf_valid = []\n",
    "\n",
    "w0 = len(y_train)/(distr[0]*3)\n",
    "w1 = len(y_train)/(distr[1]*3)\n",
    "w2 = len(y_train)/(distr[2]*3)\n",
    "s0 = 0.08\n",
    "s1 = 0.12\n",
    "s2 = 0.12\n",
    "class_weights_dict = {0: s0*w0, 1: s1*w1, 2: s2*w2}\n",
    "class_weights = class_weight.compute_sample_weight(class_weight=class_weights_dict, y=y_train)\n",
    "\n",
    "highest_valid = 0\n",
    "best_pred = None\n",
    "best_md = 1\n",
    "for i in max_depth:\n",
    "    xgb_of = XGBClassifier(objective='multi:softmax', tree_method='exact', num_class=3, eval_metric='mlogloss', max_depth=i, subsample=1, min_child_weight=0.5263157894736842, reg_lambda=2.3684210526315788, gamma=2.3684210526315788, eta=0.2236842105263158, booster='gbtree', alpha=0.7894736842105263)\n",
    "    xgb_of.fit(X_train_xgb,y_train,sample_weight=class_weights)\n",
    "    pred_train = xgb_of.predict(X_train_xgb)\n",
    "    pred_valid = xgb_of.predict(X_valid_xgb)\n",
    "    f1_train = f1_score(y_train,pred_train,average='macro')\n",
    "    f1_valid = f1_score(y_valid,pred_valid,average='macro')\n",
    "    perf_train.append(f1_train)\n",
    "    perf_valid.append(f1_valid)\n",
    "    if f1_valid > highest_valid:\n",
    "        best_pred = pred_valid\n",
    "        highest_valid = f1_valid\n",
    "        best_md = i\n",
    "perf_train_np = np.array(perf_train)\n",
    "perf_valid_np = np.array(perf_valid)\n",
    "\n",
    "plt.xlabel('max_depth')\n",
    "plt.ylabel('f1_macro')\n",
    "plt.legend(['train','valid'])\n",
    "plt.title('XGBoost performance over max_depth\\nusing RandomizedSearchCV optimized hyperparameters')\n",
    "plt.xticks(np.arange(1,20,1))\n",
    "\n",
    "plt.plot(max_depth, perf_train)\n",
    "plt.plot(max_depth, perf_valid)\n",
    "plt.show()\n",
    "\n",
    "# print(best_md)\n",
    "# print(highest_valid)\n",
    "# print(f1_score(y_valid, best_pred, average=None))\n",
    "# print(accuracy_score(y_valid, best_pred))\n"
   ]
  }
 ],
 "metadata": {
  "kernelspec": {
   "display_name": "Python 3 (ipykernel)",
   "language": "python",
   "name": "python3"
  },
  "language_info": {
   "codemirror_mode": {
    "name": "ipython",
    "version": 3
   },
   "file_extension": ".py",
   "mimetype": "text/x-python",
   "name": "python",
   "nbconvert_exporter": "python",
   "pygments_lexer": "ipython3",
   "version": "3.11.6"
  }
 },
 "nbformat": 4,
 "nbformat_minor": 5
}
