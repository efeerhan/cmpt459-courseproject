{
 "cells": [
  {
   "cell_type": "code",
   "execution_count": 41,
   "id": "c178fa21-132a-44e6-afc0-bc7244cc7e99",
   "metadata": {},
   "outputs": [],
   "source": [
    "import pandas as pd\n",
    "import numpy as np\n",
    "from typing import Mapping, Sequence\n",
    "from sklearn.model_selection import train_test_split\n",
    "from sklearn.model_selection import StratifiedKFold\n",
    "from sklearn.neighbors import KNeighborsClassifier\n",
    "from sklearn.naive_bayes import GaussianNB\n",
    "from sklearn.preprocessing import LabelEncoder\n",
    "from sklearn.linear_model import LogisticRegression\n",
    "from sklearn.tree import DecisionTreeClassifier\n",
    "from sklearn.svm import SVC\n",
    "\n",
    "import xgboost as xgb"
   ]
  },
  {
   "cell_type": "code",
   "execution_count": 13,
   "id": "b5f0e356-4cef-4ca5-92f0-3919afe30c92",
   "metadata": {},
   "outputs": [],
   "source": [
    "train = pd.read_csv('data/processed/cases_train.csv', parse_dates=['date_confirmation'])\n",
    "train['date_confirmation'] = train['date_confirmation'].apply(lambda r: r.value)"
   ]
  },
  {
   "cell_type": "markdown",
   "id": "ab7ba925-5646-41a7-a80d-4306730cde0a",
   "metadata": {},
   "source": [
    "# Label Encoding"
   ]
  },
  {
   "cell_type": "code",
   "execution_count": 17,
   "id": "739229ff-323e-4705-988f-c9ffd6da3385",
   "metadata": {},
   "outputs": [],
   "source": [
    "le = LabelEncoder()\n",
    "for col in train.columns:\n",
    "    if train[col].dtype == 'object' and col != 'outcome_group':\n",
    "        train[col] = le.fit_transform(train[col])\n",
    "\n",
    "train['outcome_group'] = pd.Categorical(train['outcome_group']).codes\n",
    "X = train.iloc[:, 0:-1]\n",
    "y = train.iloc[:, -1]"
   ]
  },
  {
   "cell_type": "markdown",
   "id": "72a61cb2-a3b2-4346-bc55-54702a3bdf5e",
   "metadata": {},
   "source": [
    "# Feature Selection"
   ]
  },
  {
   "cell_type": "code",
   "execution_count": 18,
   "id": "11d13ef2-262b-41f1-9bf8-06df685f5968",
   "metadata": {},
   "outputs": [],
   "source": [
    "X_train_fr, X_valid_fr, y_train_fr, y_valid_fr = train_test_split(X, y, stratify=y, train_size=0.8)"
   ]
  },
  {
   "cell_type": "code",
   "execution_count": 20,
   "id": "4b1d0e83-2a9d-4e87-b4e9-239ea771b5cc",
   "metadata": {},
   "outputs": [
    {
     "name": "stdout",
     "output_type": "stream",
     "text": [
      "proceeding with classifier KNN with valid score 0.932617\n",
      "working with 14/14 features\n",
      "reduction \\f age: 0.0\n",
      "removing feature age\n",
      "working with 13/14 features\n",
      "reduction \\f sex: 0.000871\n",
      "removing feature sex\n",
      "working with 12/14 features\n",
      "reduction \\f province: 0.003485\n",
      "removing feature province\n",
      "working with 11/14 features\n",
      "reduction \\f country: 0.003485\n",
      "removing feature country\n"
     ]
    }
   ],
   "source": [
    "classifiers = [(LogisticRegression(),'Logistic Regression'),\n",
    "                   (GaussianNB(),'GaussianNB'),\n",
    "                   (KNeighborsClassifier(),'KNN'),\n",
    "                   (DecisionTreeClassifier(),'Decision Tree'),\n",
    "                   (SVC(),'Support Vector')]\n",
    "    \n",
    "best_score = 0\n",
    "best_classifier = None\n",
    "best_m:str = None\n",
    "for (c,m) in classifiers:\n",
    "    c.fit(X_train_fr,y_train_fr)\n",
    "    valid_score = c.score(X_valid_fr,y_valid_fr)\n",
    "    if valid_score > best_score:\n",
    "        best_score = valid_score\n",
    "        best_classifier = c\n",
    "        best_m = m\n",
    "\n",
    "print('proceeding with classifier {0} with valid score {1}'.format(best_m,round(best_score,6)))\n",
    "\n",
    "cols: Sequence[str] = X_train_fr.columns.to_list()\n",
    "desired_n_features = round(len(cols)*0.75)\n",
    "\n",
    "while (len(cols) != desired_n_features):\n",
    "    print('working with {0}/{1} features'.format(len(cols),X_train_fr.shape[1]))\n",
    "    least_reduction = 1\n",
    "    for f in cols:\n",
    "        X_train_fr_no_f = X_train_fr[cols]\n",
    "        X_valid_fr_no_f = X_valid_fr[cols]\n",
    "        best_classifier.fit(X_train_fr_no_f,y_train_fr)\n",
    "        valid_score_no_f = best_classifier.score(X_valid_fr_no_f, y_valid_fr)\n",
    "        reduction = best_score-valid_score_no_f\n",
    "        if reduction < least_reduction:\n",
    "            print('reduction \\\\f {0}: {1}'.format(f,round(reduction,6)))\n",
    "            least_reduction = reduction\n",
    "            least_reduction_feature = f\n",
    "    print('removing feature', least_reduction_feature)\n",
    "    cols.pop(cols.index(least_reduction_feature))"
   ]
  },
  {
   "cell_type": "markdown",
   "id": "a1945c96-ea93-47af-94ae-853fddfe93bc",
   "metadata": {},
   "source": [
    "# Building Models and Hyperparameter Tuning"
   ]
  },
  {
   "cell_type": "markdown",
   "id": "f19ef5c4-7fd4-46b3-891a-92c37e0662d4",
   "metadata": {},
   "source": [
    "## K-Fold Cross-Validation"
   ]
  },
  {
   "cell_type": "code",
   "execution_count": 44,
   "id": "4706ecce-e25d-438f-b05f-bcfb0e3c2d1a",
   "metadata": {},
   "outputs": [],
   "source": [
    "classifiers = [(LogisticRegression(),'Logistic Regression'),\n",
    "               (GaussianNB(),'GaussianNB'),\n",
    "               (KNeighborsClassifier(),'KNN'),\n",
    "               (DecisionTreeClassifier(),'Decision Tree'),\n",
    "               (SVC(),'Support Vector'),\n",
    "               (xgb.XGBClassifier(),'XGBoost')]"
   ]
  },
  {
   "cell_type": "code",
   "execution_count": 47,
   "id": "f9ea5ada-5532-41cd-89fc-d73be988c101",
   "metadata": {},
   "outputs": [],
   "source": [
    "k = 6\n",
    "skf = StratifiedKFold(n_splits=k)\n",
    "for i, (train_index, valid_index) in enumerate(skf.split(X, y)):\n",
    "    x_train_fold, x_valid_fold = X.iloc[train_index], X.iloc[valid_index]\n",
    "    y_train_fold, y_valid_fold = y[train_index], y[valid_index]\n",
    "    \n",
    "    # lst_accu_stratified.append(lr.score(x_test_fold, y_test_fold))"
   ]
  },
  {
   "cell_type": "code",
   "execution_count": null,
   "id": "84d95438-f866-418e-a790-10a944cbc84d",
   "metadata": {},
   "outputs": [],
   "source": []
  }
 ],
 "metadata": {
  "kernelspec": {
   "display_name": "Python 3 (ipykernel)",
   "language": "python",
   "name": "python3"
  },
  "language_info": {
   "codemirror_mode": {
    "name": "ipython",
    "version": 3
   },
   "file_extension": ".py",
   "mimetype": "text/x-python",
   "name": "python",
   "nbconvert_exporter": "python",
   "pygments_lexer": "ipython3",
   "version": "3.11.6"
  }
 },
 "nbformat": 4,
 "nbformat_minor": 5
}
